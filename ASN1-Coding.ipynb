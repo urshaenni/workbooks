{
 "cells": [
  {
   "cell_type": "markdown",
   "metadata": {},
   "source": [
    "# ASN.1 Coding Examples\n",
    "\n",
    "\n",
    "Als erster Schritt werden die asn1tools im Python Kernel installiert.\n"
   ]
  },
  {
   "cell_type": "code",
   "execution_count": 1,
   "metadata": {},
   "outputs": [
    {
     "name": "stdout",
     "output_type": "stream",
     "text": [
      "Processing ./asn1tools-0.146.6-py2.py3-none-any.whl\n",
      "Collecting diskcache\n",
      "  Using cached https://files.pythonhosted.org/packages/ee/cc/d992e1d886d5ce15d2622c2e89b6de52b48312c6f05e34b7ee881b4ccb02/diskcache-4.1.0-py2.py3-none-any.whl\n",
      "Processing ./.cache/pip/wheels/5b/c3/e5/27b8d419b20cd587df1ccf36cd7f7ca79486185e87085cec13/bitstruct-8.9.0-cp37-cp37m-linux_x86_64.whl\n",
      "Requirement already satisfied: prompt-toolkit in /opt/conda/lib/python3.7/site-packages (from asn1tools==0.146.6) (3.0.2)\n",
      "Requirement already satisfied: pyparsing>=2.2.0 in /opt/conda/lib/python3.7/site-packages (from asn1tools==0.146.6) (2.4.5)\n",
      "Requirement already satisfied: wcwidth in /opt/conda/lib/python3.7/site-packages (from prompt-toolkit->asn1tools==0.146.6) (0.1.7)\n",
      "Installing collected packages: diskcache, bitstruct, asn1tools\n",
      "Successfully installed asn1tools-0.146.6 bitstruct-8.9.0 diskcache-4.1.0\n"
     ]
    }
   ],
   "source": [
    "# Install a conda package in the current Jupyter kernel\n",
    "import sys\n",
    "!pip install asn1tools-0.146.6-py2.py3-none-any.whl"
   ]
  },
  {
   "cell_type": "code",
   "execution_count": 36,
   "metadata": {},
   "outputs": [
    {
     "name": "stdout",
     "output_type": "stream",
     "text": [
      "Processing ./.cache/pip/wheels/e8/b1/86/c2f2e16e6bf9bfe556f9dbf8adb9f41816c476d73078c7d0eb/pixiedust-1.1.18-cp37-none-any.whl\n",
      "Collecting geojson\n",
      "  Using cached https://files.pythonhosted.org/packages/e4/8d/9e28e9af95739e6d2d2f8d4bef0b3432da40b7c3588fbad4298c1be09e48/geojson-2.5.0-py2.py3-none-any.whl\n",
      "Collecting astunparse\n",
      "  Using cached https://files.pythonhosted.org/packages/2b/03/13dde6512ad7b4557eb792fbcf0c653af6076b81e5941d36ec61f7ce6028/astunparse-1.6.3-py2.py3-none-any.whl\n",
      "Requirement already satisfied: requests in /opt/conda/lib/python3.7/site-packages (from pixiedust) (2.22.0)\n",
      "Requirement already satisfied: lxml in /opt/conda/lib/python3.7/site-packages (from pixiedust) (4.2.6)\n",
      "Processing ./.cache/pip/wheels/c0/47/fb/8a64f89aecfe0059830479308ad42d62e898a3e3cefdf6ba28/mpld3-0.3-cp37-none-any.whl\n",
      "Collecting colour\n",
      "  Using cached https://files.pythonhosted.org/packages/74/46/e81907704ab203206769dee1385dc77e1407576ff8f50a0681d0a6b541be/colour-0.1.5-py2.py3-none-any.whl\n",
      "Collecting markdown\n",
      "  Using cached https://files.pythonhosted.org/packages/ab/c4/ba46d44855e6eb1770a12edace5a165a0c6de13349f592b9036257f3c3d3/Markdown-3.2.1-py2.py3-none-any.whl\n",
      "Requirement already satisfied: wheel<1.0,>=0.23.0 in /opt/conda/lib/python3.7/site-packages (from astunparse->pixiedust) (0.33.6)\n",
      "Requirement already satisfied: six<2.0,>=1.6.1 in /opt/conda/lib/python3.7/site-packages (from astunparse->pixiedust) (1.13.0)\n",
      "Requirement already satisfied: certifi>=2017.4.17 in /opt/conda/lib/python3.7/site-packages (from requests->pixiedust) (2019.11.28)\n",
      "Requirement already satisfied: chardet<3.1.0,>=3.0.2 in /opt/conda/lib/python3.7/site-packages (from requests->pixiedust) (3.0.4)\n",
      "Requirement already satisfied: urllib3!=1.25.0,!=1.25.1,<1.26,>=1.21.1 in /opt/conda/lib/python3.7/site-packages (from requests->pixiedust) (1.25.7)\n",
      "Requirement already satisfied: idna<2.9,>=2.5 in /opt/conda/lib/python3.7/site-packages (from requests->pixiedust) (2.8)\n",
      "Requirement already satisfied: setuptools>=36 in /opt/conda/lib/python3.7/site-packages (from markdown->pixiedust) (42.0.2.post20191201)\n",
      "Installing collected packages: geojson, astunparse, mpld3, colour, markdown, pixiedust\n",
      "Successfully installed astunparse-1.6.3 colour-0.1.5 geojson-2.5.0 markdown-3.2.1 mpld3-0.3 pixiedust-1.1.18\n"
     ]
    }
   ],
   "source": [
    "import sys\n",
    "!pip install pixiedust"
   ]
  },
  {
   "cell_type": "code",
   "execution_count": 37,
   "metadata": {},
   "outputs": [
    {
     "name": "stdout",
     "output_type": "stream",
     "text": [
      "Pixiedust database opened successfully\n"
     ]
    },
    {
     "data": {
      "text/html": [
       "\n",
       "        <div style=\"margin:10px\">\n",
       "            <a href=\"https://github.com/ibm-watson-data-lab/pixiedust\" target=\"_new\">\n",
       "                <img src=\"https://github.com/ibm-watson-data-lab/pixiedust/raw/master/docs/_static/pd_icon32.png\" style=\"float:left;margin-right:10px\"/>\n",
       "            </a>\n",
       "            <span>Pixiedust version 1.1.18</span>\n",
       "        </div>\n",
       "        "
      ],
      "text/plain": [
       "<IPython.core.display.HTML object>"
      ]
     },
     "metadata": {},
     "output_type": "display_data"
    }
   ],
   "source": [
    "import pixiedust"
   ]
  },
  {
   "cell_type": "code",
   "execution_count": 3,
   "metadata": {},
   "outputs": [
    {
     "name": "stdout",
     "output_type": "stream",
     "text": [
      "Darstellung als Binary Code:\n",
      "11110000\n",
      "00001111\n",
      "\n",
      "Darstellung als Hex Code:\n",
      "b'f00f'\n"
     ]
    }
   ],
   "source": [
    "import binascii\n",
    "bytes = b'\\xf0\\x0f'\n",
    "\n",
    "def print_bytes_as_bits(bytes) :\n",
    "    return ''.join(\"{:08b}\\n\".format(byte) for byte in bytes)\n",
    "\n",
    "def hexlify(bytes) :\n",
    "    return binascii.hexlify(bytearray(bytes))\n",
    "\n",
    "print(\"Darstellung als Binary Code:\")\n",
    "print (print_bytes_as_bits(bytes) )\n",
    "print(\"Darstellung als Hex Code:\")\n",
    "print (hexlify (bytes) )"
   ]
  },
  {
   "cell_type": "markdown",
   "metadata": {},
   "source": [
    "## ASN1 Coding Examples\n",
    "\n",
    "Interessant in Zusammenhang mit dem eCall ist nur das UPER Encoding Schema. \n",
    "\n",
    "Das folgende ASN.1 Schema definiert verschiedene Datentypen. \n",
    "\n",
    "Vergleiche die mit dem ASN.1 Onlnr EnCoder. \n",
    "\n",
    "[https://asn1.io/asn1playground](https://asn1.io/asn1playground)\n",
    "\n",
    "%%html\n",
    "<a href=\"https://asn1.io/asn1playground\">https://asn1.io/asn1playground</a>\n",
    "\n",
    "\n",
    "\n",
    "\n",
    "\n"
   ]
  },
  {
   "cell_type": "code",
   "execution_count": 4,
   "metadata": {
    "pixiedust": {
     "displayParams": {}
    }
   },
   "outputs": [
    {
     "name": "stdout",
     "output_type": "stream",
     "text": [
      "01000000\n",
      "10000000\n",
      "\n",
      "b'4080'\n"
     ]
    }
   ],
   "source": [
    "#%%pixie_debugger -b uper.encode\n",
    "\n",
    "asn1_Schema = \"\"\"\n",
    "X DEFINITIONS\n",
    "AUTOMATIC TAGS  ::= BEGIN\n",
    "\n",
    "S1 ::= SEQUENCE {\n",
    "a BOOLEAN,\n",
    "b INTEGER(0 .. 255) OPTIONAL,\n",
    "c IA5String OPTIONAL,\n",
    "d OCTET STRING OPTIONAL\n",
    "}\n",
    "\n",
    "S2 ::= SEQUENCE {\n",
    "a BOOLEAN,\n",
    "b INTEGER OPTIONAL,\n",
    "...,\n",
    "...,\n",
    "d OCTET STRING OPTIONAL\n",
    "}\n",
    "\n",
    "S ::= SEQUENCE {\n",
    "   name    UTF8String,\n",
    "   age     INTEGER\n",
    "}\n",
    "\n",
    "O ::= OCTET STRING (CONTAINING S)\n",
    "\n",
    "\n",
    "VT ::= SEQUENCE {\n",
    "gasolineTankPresent BOOLEAN DEFAULT FALSE,\n",
    "dieselTankPresent BOOLEAN DEFAULT FALSE,\n",
    "compressedNaturalGas BOOLEAN DEFAULT FALSE,\n",
    "liquidPropaneGas BOOLEAN DEFAULT FALSE,\n",
    "electricEnergyStorage BOOLEAN DEFAULT FALSE,\n",
    "hydrogenStorage BOOLEAN DEFAULT FALSE,\n",
    "otherStorage BOOLEAN DEFAULT FALSE,\n",
    "...\n",
    "}\n",
    "\n",
    "\n",
    "END\n",
    "\"\"\"\n",
    "\n",
    "mess =  {\n",
    "\t\t\t'gasolineTankPresent' : True,\n",
    "\t\t\t'dieselTankPresent' : False,\n",
    "\t\t\t'compressedNaturalGas' : False,\n",
    "\t\t\t'liquidPropaneGas' : False,\n",
    "\t\t\t'electricEnergyStorage' : False,\n",
    "\t\t\t'hydrogenStorage' : False,\n",
    "\t\t\t'otherStorage' : False\n",
    "}\n",
    "\n",
    "\n",
    "import binascii\n",
    "import asn1tools\n",
    "uper = asn1tools.compile_string(asn1_Schema, codec='uper' )\n",
    "\n",
    "gaso = uper.encode('VT', mess, check_types=True, check_constraints=True)\n",
    "\n",
    "\n",
    "print(print_bytes_as_bits(gaso))\n",
    "print(hexlify(gaso))\n"
   ]
  },
  {
   "cell_type": "markdown",
   "metadata": {},
   "source": [
    "Test mit optionalen Feldern (Boolean default true/false)"
   ]
  },
  {
   "cell_type": "code",
   "execution_count": 2,
   "metadata": {},
   "outputs": [
    {
     "name": "stdout",
     "output_type": "stream",
     "text": [
      "BER encoding TLV   nach X.690 ITU-T Standard\n",
      "--------------------------------------------\n",
      "b'<S1><a><true /></a><b>255</b><c>xx</c><d>FF00FF</d></S1>'\n",
      "\\x3c \\x53 \\x31 \\x3e \\x3c \\x61 \\x3e \\x3c \\x74 \\x72 \\x75 \\x65 \\x20 \\x2f \\x3e \\x3c \\x2f \\x61 \\x3e \\x3c \\x62 \\x3e \\x32 \\x35 \\x35 \\x3c \\x2f \\x62 \\x3e \\x3c \\x63 \\x3e \\x78 \\x78 \\x3c \\x2f \\x63 \\x3e \\x3c \\x64 \\x3e \\x46 \\x46 \\x30 \\x30 \\x46 \\x46 \\x3c \\x2f \\x64 \\x3e \\x3c \\x2f \\x53 \\x31 \\x3e \n",
      "UPER encoding von S1 mit optionalen Felder nach X.690 ITU-T Standard\n",
      "\\xbf \\xf0 \\x3f \\xf0 \\x0f \\xf0 \n",
      "10111111\n",
      "11110000\n",
      "00111111\n",
      "11110000\n",
      "00001111\n",
      "11110000\n",
      "\n",
      "---------------------------------------------\n",
      "Decoding ...\n",
      "{'a': True, 'b': 255, 'd': b'\\xff\\x00\\xff'}\n",
      "@\n"
     ]
    }
   ],
   "source": [
    "import binascii\n",
    "import asn1tools\n",
    "\n",
    "foo = asn1tools.compile_files('data/optional.asn1', codec='xer')\n",
    "uper = asn1tools.compile_files('data/optional.asn1', codec='uper' )\n",
    "\n",
    "encoded = foo.encode('S1', {'a': True, 'b': 255, 'c': 'xx' , 'd' : b'\\xff\\x00\\xff' })\n",
    "\n",
    "uec = uper.encode('S1', {'a': True, 'b': 255, 'c': 'HHHH',  'd' : b'\\xff\\x00\\xff' }, check_types=True, check_constraints=True)\n",
    "uec = uper.encode('S1', {'a': True, 'b': 255, 'c': '@@@@',  'd' : b'\\xff\\x00\\xff' }, check_types=True, check_constraints=True)\n",
    "uec = uper.encode('S1', {'a': True, 'b': 255,   'd' : b'\\xff\\x00\\xff' }, check_types=True, check_constraints=True)\n",
    "\n",
    "\n",
    "print (\"BER encoding TLV   nach X.690 ITU-T Standard\")\n",
    "print (\"--------------------------------------------\")\n",
    "print(encoded)\n",
    "print(\"\".join(\"\\\\x%02x \" % i for i in encoded))\n",
    "\n",
    "print (\"UPER encoding von S1 mit optionalen Felder nach X.690 ITU-T Standard\")\n",
    "print(\"\".join(\"\\\\x%02x \" % i for i in uec))\n",
    "print(\"\".join(\"{:08b}\\n\".format(i)  for i in uec))\n",
    "\n",
    "\n",
    "print(\"---------------------------------------------\")\n",
    "print(\"Decoding ...\")\n",
    "result = uper.decode('S1', uec)\n",
    "print(result)\n",
    "\n",
    "#result = foo.decode('S2', encoded)\n",
    "#print(result)\n",
    "\n",
    "print (chr(64))"
   ]
  },
  {
   "cell_type": "markdown",
   "metadata": {},
   "source": [
    "Kommentar zu UPER Encoding.\n",
    "Die ersten 3-bit geben die optionalen Parameter in S1 an. Im Beispiel ist z.B. der 'c' String nicht gesetzt. \n",
    "Danach folgt der 8Bit Integer Wert (255).\n",
    "Danach IA5String (7Bit nach ISO T.50 Standard), Länge als 8Bit danach 7Bit Sequenzen. Falls der String leer ist, so ist die Länge 0.\n",
    "\n",
    "Rest der Bytes mit 0 aufgefüllt.\n"
   ]
  },
  {
   "cell_type": "code",
   "execution_count": 6,
   "metadata": {},
   "outputs": [
    {
     "name": "stdout",
     "output_type": "stream",
     "text": [
      "Sequence(S1, [Boolean(a), Integer(b), IA5String(c), OctetString(d)])\n"
     ]
    }
   ],
   "source": [
    "print(uper.types['S1'])"
   ]
  },
  {
   "cell_type": "markdown",
   "metadata": {},
   "source": [
    "Containing Keyword"
   ]
  },
  {
   "cell_type": "code",
   "execution_count": 24,
   "metadata": {},
   "outputs": [
    {
     "name": "stdout",
     "output_type": "stream",
     "text": [
      "b'<S><name>Calvin</name><age>5</age></S>'\n",
      "\\x3c \\x53 \\x3e \\x3c \\x6e \\x61 \\x6d \\x65 \\x3e \\x43 \\x61 \\x6c \\x76 \\x69 \\x6e \\x3c \\x2f \\x6e \\x61 \\x6d \\x65 \\x3e \\x3c \\x61 \\x67 \\x65 \\x3e \\x35 \\x3c \\x2f \\x61 \\x67 \\x65 \\x3e \\x3c \\x2f \\x53 \\x3e \n",
      "b'3c533e3c6e616d653e43616c76696e3c2f6e616d653e3c6167653e353c2f6167653e3c2f533e'\n",
      "b'<O>300B0C0643616C76696E020105</O>'\n",
      "b'3c4f3e33303042304330363433363136433736363936453032303130353c2f4f3e'\n"
     ]
    }
   ],
   "source": [
    "import binascii\n",
    "sEncoded = foo.encode('S', {'name': 'Calvin', 'age': 5})\n",
    "print(sEncoded)\n",
    "print(\"\".join(\"\\\\x%02x \" % i for i in sEncoded))\n",
    "print(binascii.hexlify(sEncoded))\n",
    "\n",
    "oEndcoded = foo.encode('O', b'0\\x0b\\x0c\\x06Calvin\\x02\\x01\\x05')\n",
    "print(oEndcoded)\n",
    "print(binascii.hexlify(oEndcoded))"
   ]
  },
  {
   "cell_type": "markdown",
   "metadata": {},
   "source": [
    "# ASN.1 Coding"
   ]
  },
  {
   "cell_type": "code",
   "execution_count": 25,
   "metadata": {},
   "outputs": [
    {
     "name": "stdout",
     "output_type": "stream",
     "text": [
      "bytearray(b'0\\x0e\\x02\\x01\\x01\\x16\\tIs 1+1=3?')\n",
      "bytearray(b'0\\x06\\x02\\x01\\x02\\x01\\x01\\x00')\n"
     ]
    }
   ],
   "source": [
    "\n",
    "import asn1tools\n",
    "foo = asn1tools.compile_files('data/foo.asn', codec='ber')\n",
    "encoded = foo.encode('Question', {'id': 1, 'question': 'Is 1+1=3?'})\n",
    "print(encoded)\n",
    "encoded = foo.encode('Answer', {'id': 2, 'answer': False})\n",
    "print(encoded)\n"
   ]
  },
  {
   "cell_type": "code",
   "execution_count": 10,
   "metadata": {},
   "outputs": [
    {
     "name": "stdout",
     "output_type": "stream",
     "text": [
      "Darstellung als Binary Code:\n",
      "11110000\n",
      "00001111\n",
      "\n",
      "Darstellung als Hex Code:\n",
      "b'f00f'\n"
     ]
    }
   ],
   "source": []
  },
  {
   "cell_type": "code",
   "execution_count": 7,
   "metadata": {},
   "outputs": [
    {
     "data": {
      "text/plain": [
       "b'3006020102010100'"
      ]
     },
     "execution_count": 7,
     "metadata": {},
     "output_type": "execute_result"
    }
   ],
   "source": [
    "import binascii\n",
    "binascii.hexlify(bytearray(encoded))"
   ]
  },
  {
   "cell_type": "raw",
   "metadata": {},
   "source": [
    "MSDASN1V2 \n",
    "-- Definition of the eCall related MSD message in ASN.1\n",
    "-- Any MSD message will encoded using this scheme, following the\n",
    "-- UPER encoding rules.\n",
    "--\n",
    "-- The MSD message is defined in CEN standard EN 15722.\n",
    "-- Comments in this definition are taken from that standard. In\n",
    "-- case of inconsistency in the comment, the text of EN 15722\n",
    "-- prevails.\n",
    "DEFINITIONS\n",
    "AUTOMATIC TAGS ::=\n",
    "BEGIN\n",
    "-- Version of this ASN.1 MSD specification\n",
    "-- (inclusion of this element allows software developers to\n",
    "-- automatically read out the current version number from the ASN.1\n",
    "-- compilation for automatic inclusion into the msdVersion parameter\n",
    "-- of the MSD message, i.e. can reduce the chance of using an ASN.1\n",
    "-- description of one version but saying it is another)\n",
    "CurrentVersion::= INTEGER (2)\n",
    "-- ECallMessage is the top level information element\n",
    "-- The ECallMessage structure supports only one message type (msd)\n",
    "-- Extendibility at this level is not allowed, thus ensuring that the\n",
    "-- msdVersion (message format version) can be extracted directly.\n",
    "-- Elements:\n",
    "-- msdVersion: MSD format version\n",
    "-- The format described in this document carries version 1\n",
    "-- msd: Minimum Set Of Data uplink from vehicle\n",
    "--\n",
    "-- The OCTET STRING (CONTAINING ...) construct is used to ensure that any\n",
    "-- implementation can extract the msdVersion value from any version,\n",
    "-- without decoding errors.\n",
    "ECallMessage ::= SEQUENCE {\n",
    "msdVersion INTEGER(0 .. 255),\n",
    "msd OCTET STRING (CONTAINING MSDMessage)\n",
    "}\n",
    "-- The main uplink msd message from the vehicle (excluding msdVersion)\n",
    "-- Elements:\n",
    "-- msdStructure: The main MSD structure\n",
    "-- optionalAdditionalData: Additional data\n",
    "-- Extendable in future versions at this level e.g. to add extra data\n",
    "--\n",
    "MSDMessage ::= SEQUENCE {\n",
    "msdStructure MSDStructure,\n",
    "optionalAdditionalData AdditionalData OPTIONAL,\n",
    "...\n",
    "}\n",
    "-- The main MSD structure, excluding additional data\n",
    "-- Elements:\n",
    "-- messageIdentifier: Message identifier, starting with 1 for each\n",
    "-- new eCall transaction and to be incremented\n",
    "-- with every application layer MSD retransmission\n",
    "-- following a new ‘Send MSD’ request after the\n",
    "-- incident event\n",
    "-- control: see ControlType\n",
    "-- vehicleIdentificationNumber: see VIN\n",
    "-- vehiclePropulsionStorageType: see VehiclePropulsionStorageType\n",
    "-- timestamp: Timestamp of incident event\n",
    "-- As seconds elapsed since midnight January 1st, 1970 UTC.\n",
    "-- Failure value for time stamp set to “0”\n",
    "-- vehicleLocation: see VehicleLocation\n",
    "-- vehicleDirection: Direction of travel\n",
    "-- in 2°-degrees steps from magnetic north\n",
    "-- (0– 358, clockwise)\n",
    "-- If direction of travel is invalid or unknown,\n",
    "-- the value 255 shall be used\n",
    "-- Only values from 0 to 179 are valid.\n",
    "-- recentVehicleLocationN1: location delta with respect to\n",
    "-- vehicleLocation\n",
    "-- see VehicleLocationDelta\n",
    "-- recentVehicleLocationN2: location deltat with respect to\n",
    "-- recentVehicleLocationN1\n",
    "-- see VehicleLocationDelta\n",
    "-- numberOfPassengers: Number of occupants in the vehicle according\n",
    "-- to available information.\n",
    "-- NOTE 1 This information is indicative\n",
    "-- only as it may be not always be reliable\n",
    "-- in providing exact information about the\n",
    "-- number of passengers (e.g. because seatbelts\n",
    "-- may not be fastened by passengers or seatbelts\n",
    "-- may be fastened for other reasons).\n",
    "-- NOTE 2 If no information about the number of\n",
    "-- occupants is available, this parameter needs\n",
    "-- to be omitted or filled with the representation\n",
    "-- of value 255\n",
    "--\n",
    "MSDStructure ::= SEQUENCE {\n",
    "messageIdentifier INTEGER(0 .. 255),\n",
    "control ControlType,\n",
    "vehicleIdentificationNumber VIN,\n",
    "vehiclePropulsionStorageType VehiclePropulsionStorageType,\n",
    "timestamp INTEGER(0 .. 4294967295),\n",
    "vehicleLocation VehicleLocation,\n",
    "vehicleDirection INTEGER(0 .. 255),\n",
    "recentVehicleLocationN1 VehicleLocationDelta OPTIONAL,\n",
    "recentVehicleLocationN2 VehicleLocationDelta OPTIONAL,\n",
    "numberOfPassengers INTEGER(0 .. 255) OPTIONAL,\n",
    "...\n",
    "}\n",
    "-- The ControlType is a collection of the following elements:\n",
    "-- Elements:\n",
    "-- automaticActivation: true = Automatic activation,\n",
    "-- false = Manual activation\n",
    "-- testCall: true = Test call, false = Emergency\n",
    "-- positionCanBeTrusted: true = Position can be trusted,\n",
    "-- false = low confidence in position\n",
    "-- NOTE “Low confidence in position”\n",
    "-- shall mean that there is less than 95%\n",
    "-- confidence that exact position is\n",
    "-- within the limits of a radius of ±150m\n",
    "-- of reported position\n",
    "-- vehicleType: see VehicleType\n",
    "--\n",
    "ControlType ::= SEQUENCE {\n",
    "automaticActivation BOOLEAN,\n",
    "testCall BOOLEAN,\n",
    "positionCanBeTrusted BOOLEAN,\n",
    "vehicleType VehicleType\n",
    "}\n",
    "-- Definiton of the vehicle type reporting the incident.\n",
    "-- NOTE: Vehicle definitions class M, N according directive 2007/46/EC;\n",
    "-- class L according directive 2002/24/EC\n",
    "-- Extendable in future versions for new vehicle types\n",
    "--\n",
    "VehicleType ::= ENUMERATED{\n",
    "passengerVehicleClassM1 (1),\n",
    "busesAndCoachesClassM2 (2),\n",
    "busesAndCoachesClassM3 (3),\n",
    "lightCommercialVehiclesClassN1 (4),\n",
    "heavyDutyVehiclesClassN2 (5),\n",
    "heavyDutyVehiclesClassN3 (6),\n",
    "motorcyclesClassL1e (7),\n",
    "motorcyclesClassL2e (8),\n",
    "motorcyclesClassL3e (9),\n",
    "motorcyclesClassL4e (10),\n",
    "motorcyclesClassL5e (11),\n",
    "motorcyclesClassL6e (12),\n",
    "motorcyclesClassL7e (13),\n",
    "...\n",
    "}\n",
    "-- VIN (vehicle identification number) according ISO 3779\n",
    "-- isowmi: World Manufacturer Index (WMI)\n",
    "-- isovds: Vehicle Type Descriptor (VDS)\n",
    "-- Vehicle Identifier Section (VIS) consisting of\n",
    "-- isovisModelyear: Modelyear from Vehicle Identifier Section (VIS)\n",
    "-- isovisSeqPlant: Plant code + sequential number\n",
    "-- from Vehicle Identifier Section (VIS)\n",
    "VIN ::= SEQUENCE {\n",
    "isowmi PrintableString (SIZE(3))\n",
    "(FROM(\"A\"..\"H\"|\"J\"..\"N\"|\"P\"|\"R\"..\"Z\"|\"0\"..\"9\")),\n",
    "isovds PrintableString (SIZE(6))\n",
    "(FROM(\"A\"..\"H\"|\"J\"..\"N\"|\"P\"|\"R\"..\"Z\"|\"0\"..\"9\")),\n",
    "isovisModelyear PrintableString (SIZE(1))\n",
    "(FROM(\"A\"..\"H\"|\"J\"..\"N\"|\"P\"|\"R\"..\"Z\"|\"0\"..\"9\")),\n",
    "isovisSeqPlant PrintableString (SIZE(7))\n",
    "(FROM(\"A\"..\"H\"|\"J\"..\"N\"|\"P\"|\"R\"..\"Z\"|\"0\"..\"9\"))\n",
    "}\n",
    "-- VehiclePropulsionStorageType is a collection of elements\n",
    "-- that contain information about the presence of propulsion\n",
    "-- storage inside the vehicle sending the MSD.\n",
    "--\n",
    "-- For each storage type the following coding applies:\n",
    "-- false = indicates a type of storage not present\n",
    "-- true = indicates type of storage which is present\n",
    "-- The following storage types are supported:\n",
    "-- Gasoline tank\n",
    "-- Diesel tank\n",
    "-- Compressed natural gas (CNG)\n",
    "-- Liquid propane gas (LPG)\n",
    "-- Electric energy storage (with more than 42v and 100Ah)\n",
    "-- Hydrogen storage\n",
    "-- other storage\n",
    "-- If the type of energy storage is unknown, then all elements\n",
    "-- shall be set to false.\n",
    "-- Extendible in future versions for new fuel storage types\n",
    "VehiclePropulsionStorageType ::= SEQUENCE {\n",
    "gasolineTankPresent BOOLEAN DEFAULT FALSE,\n",
    "dieselTankPresent BOOLEAN DEFAULT FALSE,\n",
    "compressedNaturalGas BOOLEAN DEFAULT FALSE,\n",
    "liquidPropaneGas BOOLEAN DEFAULT FALSE,\n",
    "electricEnergyStorage BOOLEAN DEFAULT FALSE,\n",
    "hydrogenStorage BOOLEAN DEFAULT FALSE,\n",
    "otherStorage BOOLEAN DEFAULT FALSE,\n",
    "...\n",
    "}\n",
    "-- VehicleLocation:\n",
    "-- The current location of the vehicle\n",
    "-- Elements:\n",
    "-- Position latitude (WGS84) in milliarcsec\n",
    "-- 32 bits (4 octets) allocated to make signed value handling easier\n",
    "-- Real latitude values in 1 milli-arc-second units\n",
    "-- Valid value range (-324000000 to 324000000)\n",
    "-- calculation example:\n",
    "-- 48.3003333 = 48°18'1.20\" N\n",
    "-- = 48*60*60.000” + 18*60.000” + 1.20”\n",
    "-- = 173881.200”\n",
    "-- = 173881200 milliarcsec\n",
    "--\n",
    "-- maximum value:\n",
    "-- 90°00'00.000\" = 324000000\n",
    "-- minimum value:\n",
    "-- -90°00'00.000\" = -324000000\n",
    "--\n",
    "-- NOTE 1: if latitude is invalid or unknown,\n",
    "-- the representation of value 2147483647 shall\n",
    "-- be transmitted.\n",
    "-- NOTE 2: if both latitude and longitude have\n",
    "-- value 0 then the location shall also be\n",
    "-- interpreted as invalid/unknown.\n",
    "-- NOTE 3: if the transmitter determines either\n",
    "-- latitude or longitude to be invalid/unknown,\n",
    "-- then it is recommended to transmit both\n",
    "-- longitude and latitude as unknown.\n",
    "-- NOTE 4: if the receiver determines either\n",
    "-- latitude or longitude to be invalid/unknown,\n",
    "-- then it is recommended to interpret both\n",
    "-- longitude and latitude as invalid/unknown\n",
    "-- Position longitude (WGS84)\n",
    "-- 32 bits (4 octets) allocated to make signed value handling easier\n",
    "-- Real longitude values in 1 milli-arc-second units\n",
    "-- Valid value range (-648000000 to 648000000)\n",
    "--\n",
    "-- see 'Position latitude'\n",
    "--\n",
    "VehicleLocation ::= SEQUENCE {\n",
    "positionLatitude INTEGER(-2147483648..2147483647),\n",
    "positionLongitude INTEGER(-2147483648..2147483647)\n",
    "}\n",
    "-- VehicleLocationDelta:\n",
    "-- Description of (the delta of) a recent vehicle locatation\n",
    "-- before the incident\n",
    "-- Latitude Delta (+ for North and – for South)\n",
    "-- with respect to vehicleLocation.\n",
    "-- 1 Unit = 100 miliarcseconds, which is approximately 3m\n",
    "-- Coded value range (-512..511)\n",
    "-- representing -51200 to +51100 miliarcseconds,\n",
    "-- or from 51,2’’S to 51,1’’N from the reference position\n",
    "-- Longitude Delta (+ for East and – for West)\n",
    "-- with respect to vehicleLocation.\n",
    "-- 1 Unit = 100 miliarcseconds, which is approximately 3m\n",
    "-- Coded value range (-512..511)\n",
    "-- representing -51200 to +51100 miliarcseconds,\n",
    "-- or from 51,2’’W to 51,1’’E from the reference position\n",
    "--\n",
    "VehicleLocationDelta ::= SEQUENCE {\n",
    "latitudeDelta INTEGER (-512..511),\n",
    "longitudeDelta INTEGER (-512..511)\n",
    "}\n",
    "-- AdditionalData:\n",
    "-- Further additional bytes of data encoded as in a\n",
    "-- seperate ASN.1 definition\n",
    "-- NOTE: The framework format of this field is defined here,\n",
    "-- which includes a method to uniquely identify the exact\n",
    "-- format of the data.\n",
    "-- Elements:\n",
    "-- oid: Object identifier which uniquely identifies the format\n",
    "-- and meaning of the data which follows.\n",
    "-- data:Transparent optional additional data,\n",
    "-- according to the format referenced by the oid\n",
    "-- The user must ensure that the size of this element\n",
    "-- is restricted to ensure that the total ECallMessage is\n",
    "-- small enough for the relevant transmission medium.\n",
    "AdditionalData ::= SEQUENCE {\n",
    "oid OCTET STRING,\n",
    "data OCTET STRING\n",
    "}\n",
    "-- Several of the elements above are \"extendable\"\n",
    "-- according to the ASN.1 standard to facilitate future extensions\n",
    "-- whilst also maintaining backwards compatibility.\n",
    "-- Tip for using the extendability marker in later versions:\n",
    "-- For the extended version put a \",\" behind the \"...\"\n",
    "-- and add new elements ensuring that there is no \",\"\n",
    "-- at the end of the list\n",
    "-- Example: numberOfPassengers,\n",
    "-- ...,\n",
    "-- newMsdParameter1 TYPE1,\n",
    "-- newMsdParameter2 TYPE2\n",
    "END\n"
   ]
  },
  {
   "cell_type": "code",
   "execution_count": 3,
   "metadata": {
    "scrolled": true
   },
   "outputs": [
    {
     "name": "stdout",
     "output_type": "stream",
     "text": [
      "{'msdStructure': {'messageIdentifier': 1, 'control': {'automaticActivation': True, 'testCall': False, 'positionCanBeTrusted': True, 'vehicleType': 1}, 'vehicleIdentificationNumber': {'isowmi': 'ECA', 'isovds': 'LLEXAM', 'isovisModelyear': 'P', 'isovisSeqPlant': 'LE02013'}, 'vehiclePropulsionStorageType': {'gasolineTankPresent': True, 'dieselTankPresent': False, 'compressedNaturalGas': False, 'liquidPropaneGas': False, 'electricEnergyStorage': False, 'hydrogenStorage': False, 'otherStorage': False}, 'timestamp': 1367878452, 'vehicleLocation': {'positionLatitude': 18859320, 'positionLongitude': 187996428}, 'vehicleDirection': 45, 'recentVehicleLocationN1': {'latitudeDelta': 0, 'longitudeDelta': 10}, 'recentVehicleLocationN2': {'latitudeDelta': 0, 'longitudeDelta': 30}, 'numberOfPassengers': 2}}\n",
      "b'\n",
      "\\x1c\\x06\\x80\\xe3\\x0a\\x51\\x43\\x9e\\x29\\x55\\xd4\\x38\\x00\\x80\\x04\\x34\\x0a\\x8c\\x41\\x59\\xa4\\x08\\xfe\\x29\\xc4\\x59\\xa4\\xc8\\x61\\x6c\\x01\\x05\\x40\\x10\\xf0\\x10\n",
      "{'msdVersion': 2, 'msd': bytearray(b'\\x1c\\x06\\x80\\xe3\\nQC\\x9e)U\\xd48\\x00\\x80\\x044\\n\\x8cAY\\xa4\\x08\\xfe)\\xc4Y\\xa4\\xc8al\\x01\\x05@\\x10\\xf0\\x10')}\n",
      "\\x02\\x24\\x1c\\x06\\x80\\xe3\\x0a\\x51\\x43\\x9e\\x29\\x55\\xd4\\x38\\x00\\x80\\x04\\x34\\x0a\\x8c\\x41\\x59\\xa4\\x08\\xfe\\x29\\xc4\\x59\\xa4\\xc8\\x61\\x6c\\x01\\x05\\x40\\x10\\xf0\\x10\n",
      "b'02241c0680e30a51439e2955d438008004340a8c4159a408fe29c459a4c8616c01054010f010'\n",
      "Länge des Oct String = 38\n",
      "00000010\n",
      "00100100\n",
      "00011100\n",
      "00000110\n",
      "10000000\n",
      "11100011\n",
      "00001010\n",
      "01010001\n",
      "01000011\n",
      "10011110\n",
      "00101001\n",
      "01010101\n",
      "11010100\n",
      "00111000\n",
      "00000000\n",
      "10000000\n",
      "00000100\n",
      "00110100\n",
      "00001010\n",
      "10001100\n",
      "01000001\n",
      "01011001\n",
      "10100100\n",
      "00001000\n",
      "11111110\n",
      "00101001\n",
      "11000100\n",
      "01011001\n",
      "10100100\n",
      "11001000\n",
      "01100001\n",
      "01101100\n",
      "00000001\n",
      "00000101\n",
      "01000000\n",
      "00010000\n",
      "11110000\n",
      "00010000\n",
      "\n"
     ]
    }
   ],
   "source": [
    "msdMessage = {'msdStructure' : {\n",
    "\t\t'messageIdentifier': 1,\n",
    "\t\t'control': {\n",
    "\t\t\t'automaticActivation': True,\n",
    "\t\t\t'testCall' : False,\n",
    "\t\t\t'positionCanBeTrusted' :  True,\n",
    "\t\t\t'vehicleType' : 1\n",
    "\t\t},\n",
    "\t\t'vehicleIdentificationNumber' : {\n",
    "\t\t\t'isowmi': 'ECA',\n",
    "\t\t\t'isovds': 'LLEXAM',\n",
    "\t\t\t'isovisModelyear': 'P',\n",
    "\t\t\t'isovisSeqPlant' : 'LE02013'\n",
    "\t\t},\n",
    "\t\t'vehiclePropulsionStorageType' : {\n",
    "\t\t\t'gasolineTankPresent' : True,\n",
    "\t\t\t'dieselTankPresent' : False,\n",
    "\t\t\t'compressedNaturalGas' : False,\n",
    "\t\t\t'liquidPropaneGas' : False,\n",
    "\t\t\t'electricEnergyStorage' : False,\n",
    "\t\t\t'hydrogenStorage' : False,\n",
    "\t\t\t'otherStorage' : False\n",
    "\t\t},\n",
    "\t\t'timestamp' : 1367878452,\n",
    "\t\t'vehicleLocation' : { \n",
    "\t\t\t'positionLatitude' : 18859320,\n",
    "\t\t\t'positionLongitude': 187996428\n",
    "\t\t},\n",
    "\t\t'vehicleDirection' :  45,\n",
    "\t\t'recentVehicleLocationN1': {\n",
    "\t\t\t'latitudeDelta' :  0,\n",
    "\t\t\t'longitudeDelta': 10\n",
    "\t\t},\n",
    "\t\t'recentVehicleLocationN2' : {\n",
    "\t\t\t'latitudeDelta' : 0,\n",
    "\t\t\t'longitudeDelta' : 30\n",
    "\t\t},\n",
    "\t\t'numberOfPassengers' : 2\n",
    "\t}\n",
    " }\n",
    "print(msdMessage)\n",
    "\n",
    "import binascii\n",
    "import asn1tools\n",
    "msd = asn1tools.compile_files('data/msd_v2.asn1', codec='uper',numeric_enums=True)\n",
    "msdcode = msd.encode('MSDMessage', msdMessage,  check_types=True, check_constraints=True )\n",
    "print(\"b'\")\n",
    "print(\"\".join(\"\\\\x%02x\" % i for i in msdcode))\n",
    "\n",
    "\n",
    "#msdcode = b'0'\n",
    "eCallMessage = { \n",
    "  'msdVersion':  2,\n",
    "  'msd' : msdcode\n",
    "}\n",
    "print(eCallMessage)\n",
    "\n",
    "eCallMessageCode = msd.encode('ECallMessage', eCallMessage,check_types=True, check_constraints=True)\n",
    "\n",
    "print(\"\".join(\"\\\\x%02x\" % i for i in eCallMessageCode))\n",
    "\n",
    "\n",
    "import binascii\n",
    "hexcode = binascii.hexlify(bytearray(eCallMessageCode))\n",
    "print(hexcode)\n",
    "\n",
    "print( \"Länge des Oct String = \" + str(len(eCallMessageCode)) ) \n",
    "\n",
    "bytes_as_bits = ''.join(\"{:08b}\\n\".format(byte) for byte in eCallMessageCode)\n",
    "\n",
    "print (bytes_as_bits)"
   ]
  },
  {
   "cell_type": "markdown",
   "metadata": {},
   "source": [
    "Vergleich den Decoder mit \n",
    "https://asn1.io/asn1playground/\n",
    "\n",
    "1. Laden vom MSD V2 ASN-File (Upload ASN.1 File, Durchsuchen :  Desktop\\notruf\\eCall\\eCallTestData\\MSD.asn) \n",
    "2. Compile (Compiliert zwei Objekte: CurrentVersion, ECallMessage) \n",
    "3. Wähle den Decoder (Data: HEX oder Base64, Tpye: ECallMessage, UPER) - > Decode\n"
   ]
  },
  {
   "cell_type": "code",
   "execution_count": 5,
   "metadata": {},
   "outputs": [
    {
     "data": {
      "text/plain": [
       "{'CurrentVersion': Integer(CurrentVersion),\n",
       " 'ECallMessage': Sequence(ECallMessage, [Integer(msdVersion), OctetString(msd)]),\n",
       " 'MSDMessage': Sequence(MSDMessage, [Sequence(msdStructure, [Integer(messageIdentifier), Sequence(control, [Boolean(automaticActivation), Boolean(testCall), Boolean(positionCanBeTrusted), Enumerated(vehicleType)]), Sequence(vehicleIdentificationNumber, [PrintableString(isowmi), PrintableString(isovds), PrintableString(isovisModelyear), PrintableString(isovisSeqPlant)]), Sequence(vehiclePropulsionStorageType, [Boolean(gasolineTankPresent), Boolean(dieselTankPresent), Boolean(compressedNaturalGas), Boolean(liquidPropaneGas), Boolean(electricEnergyStorage), Boolean(hydrogenStorage), Boolean(otherStorage)]), Integer(timestamp), Sequence(vehicleLocation, [Integer(positionLatitude), Integer(positionLongitude)]), Integer(vehicleDirection), Sequence(recentVehicleLocationN1, [Integer(latitudeDelta), Integer(longitudeDelta)]), Sequence(recentVehicleLocationN2, [Integer(latitudeDelta), Integer(longitudeDelta)]), Integer(numberOfPassengers)]), Sequence(optionalAdditionalData, [OctetString(oid), OctetString(data)])]),\n",
       " 'MSDStructure': Sequence(MSDStructure, [Integer(messageIdentifier), Sequence(control, [Boolean(automaticActivation), Boolean(testCall), Boolean(positionCanBeTrusted), Enumerated(vehicleType)]), Sequence(vehicleIdentificationNumber, [PrintableString(isowmi), PrintableString(isovds), PrintableString(isovisModelyear), PrintableString(isovisSeqPlant)]), Sequence(vehiclePropulsionStorageType, [Boolean(gasolineTankPresent), Boolean(dieselTankPresent), Boolean(compressedNaturalGas), Boolean(liquidPropaneGas), Boolean(electricEnergyStorage), Boolean(hydrogenStorage), Boolean(otherStorage)]), Integer(timestamp), Sequence(vehicleLocation, [Integer(positionLatitude), Integer(positionLongitude)]), Integer(vehicleDirection), Sequence(recentVehicleLocationN1, [Integer(latitudeDelta), Integer(longitudeDelta)]), Sequence(recentVehicleLocationN2, [Integer(latitudeDelta), Integer(longitudeDelta)]), Integer(numberOfPassengers)]),\n",
       " 'ControlType': Sequence(ControlType, [Boolean(automaticActivation), Boolean(testCall), Boolean(positionCanBeTrusted), Enumerated(vehicleType)]),\n",
       " 'VehicleType': Enumerated(VehicleType),\n",
       " 'VIN': Sequence(VIN, [PrintableString(isowmi), PrintableString(isovds), PrintableString(isovisModelyear), PrintableString(isovisSeqPlant)]),\n",
       " 'VehiclePropulsionStorageType': Sequence(VehiclePropulsionStorageType, [Boolean(gasolineTankPresent), Boolean(dieselTankPresent), Boolean(compressedNaturalGas), Boolean(liquidPropaneGas), Boolean(electricEnergyStorage), Boolean(hydrogenStorage), Boolean(otherStorage)]),\n",
       " 'VehicleLocation': Sequence(VehicleLocation, [Integer(positionLatitude), Integer(positionLongitude)]),\n",
       " 'VehicleLocationDelta': Sequence(VehicleLocationDelta, [Integer(latitudeDelta), Integer(longitudeDelta)]),\n",
       " 'AdditionalData': Sequence(AdditionalData, [OctetString(oid), OctetString(data)])}"
      ]
     },
     "execution_count": 5,
     "metadata": {},
     "output_type": "execute_result"
    }
   ],
   "source": [
    "msd.types"
   ]
  },
  {
   "cell_type": "markdown",
   "metadata": {},
   "source": [
    "Teste UPER Coding von vehiclePropulsionStorageType (Binary with DEFAULTS und Options)"
   ]
  },
  {
   "cell_type": "code",
   "execution_count": 5,
   "metadata": {},
   "outputs": [
    {
     "ename": "EncodeError",
     "evalue": "Type 'vehiclePropulsionStorageType' not found in types dictionary.",
     "output_type": "error",
     "traceback": [
      "\u001b[0;31m---------------------------------------------------------------------------\u001b[0m",
      "\u001b[0;31mKeyError\u001b[0m                                  Traceback (most recent call last)",
      "\u001b[0;32m/opt/conda/lib/python3.7/site-packages/asn1tools/compiler.py\u001b[0m in \u001b[0;36mencode\u001b[0;34m(self, name, data, check_types, check_constraints, **kwargs)\u001b[0m\n\u001b[1;32m    126\u001b[0m         \u001b[0;32mtry\u001b[0m\u001b[0;34m:\u001b[0m\u001b[0;34m\u001b[0m\u001b[0;34m\u001b[0m\u001b[0m\n\u001b[0;32m--> 127\u001b[0;31m             \u001b[0mtype_\u001b[0m \u001b[0;34m=\u001b[0m \u001b[0mself\u001b[0m\u001b[0;34m.\u001b[0m\u001b[0m_types\u001b[0m\u001b[0;34m[\u001b[0m\u001b[0mname\u001b[0m\u001b[0;34m]\u001b[0m\u001b[0;34m\u001b[0m\u001b[0;34m\u001b[0m\u001b[0m\n\u001b[0m\u001b[1;32m    128\u001b[0m         \u001b[0;32mexcept\u001b[0m \u001b[0mKeyError\u001b[0m\u001b[0;34m:\u001b[0m\u001b[0;34m\u001b[0m\u001b[0;34m\u001b[0m\u001b[0m\n",
      "\u001b[0;31mKeyError\u001b[0m: 'vehiclePropulsionStorageType'",
      "\nDuring handling of the above exception, another exception occurred:\n",
      "\u001b[0;31mEncodeError\u001b[0m                               Traceback (most recent call last)",
      "\u001b[0;32m<ipython-input-5-e5b5a59b266c>\u001b[0m in \u001b[0;36m<module>\u001b[0;34m\u001b[0m\n\u001b[1;32m     11\u001b[0m \u001b[0;34m\u001b[0m\u001b[0m\n\u001b[1;32m     12\u001b[0m \u001b[0mmsd\u001b[0m \u001b[0;34m=\u001b[0m \u001b[0masn1tools\u001b[0m\u001b[0;34m.\u001b[0m\u001b[0mcompile_files\u001b[0m\u001b[0;34m(\u001b[0m\u001b[0;34m'data/msd_v2.asn1'\u001b[0m\u001b[0;34m,\u001b[0m \u001b[0mcodec\u001b[0m\u001b[0;34m=\u001b[0m\u001b[0;34m'uper'\u001b[0m\u001b[0;34m,\u001b[0m\u001b[0mnumeric_enums\u001b[0m\u001b[0;34m=\u001b[0m\u001b[0;32mTrue\u001b[0m\u001b[0;34m)\u001b[0m\u001b[0;34m\u001b[0m\u001b[0;34m\u001b[0m\u001b[0m\n\u001b[0;32m---> 13\u001b[0;31m \u001b[0mmsdcode\u001b[0m \u001b[0;34m=\u001b[0m \u001b[0mmsd\u001b[0m\u001b[0;34m.\u001b[0m\u001b[0mencode\u001b[0m\u001b[0;34m(\u001b[0m\u001b[0;34m'vehiclePropulsionStorageType'\u001b[0m\u001b[0;34m,\u001b[0m \u001b[0mmsdMessage\u001b[0m\u001b[0;34m,\u001b[0m  \u001b[0mcheck_types\u001b[0m\u001b[0;34m=\u001b[0m\u001b[0;32mTrue\u001b[0m\u001b[0;34m,\u001b[0m \u001b[0mcheck_constraints\u001b[0m\u001b[0;34m=\u001b[0m\u001b[0;32mTrue\u001b[0m \u001b[0;34m)\u001b[0m\u001b[0;34m\u001b[0m\u001b[0;34m\u001b[0m\u001b[0m\n\u001b[0m\u001b[1;32m     14\u001b[0m \u001b[0;34m\u001b[0m\u001b[0m\n\u001b[1;32m     15\u001b[0m \u001b[0mprint\u001b[0m\u001b[0;34m(\u001b[0m\u001b[0;34m\"b'\"\u001b[0m\u001b[0;34m)\u001b[0m\u001b[0;34m\u001b[0m\u001b[0;34m\u001b[0m\u001b[0m\n",
      "\u001b[0;32m/opt/conda/lib/python3.7/site-packages/asn1tools/compiler.py\u001b[0m in \u001b[0;36mencode\u001b[0;34m(self, name, data, check_types, check_constraints, **kwargs)\u001b[0m\n\u001b[1;32m    128\u001b[0m         \u001b[0;32mexcept\u001b[0m \u001b[0mKeyError\u001b[0m\u001b[0;34m:\u001b[0m\u001b[0;34m\u001b[0m\u001b[0;34m\u001b[0m\u001b[0m\n\u001b[1;32m    129\u001b[0m             raise EncodeError(\n\u001b[0;32m--> 130\u001b[0;31m                 \"Type '{}' not found in types dictionary.\".format(name))\n\u001b[0m\u001b[1;32m    131\u001b[0m \u001b[0;34m\u001b[0m\u001b[0m\n\u001b[1;32m    132\u001b[0m         \u001b[0;32mif\u001b[0m \u001b[0mcheck_types\u001b[0m\u001b[0;34m:\u001b[0m\u001b[0;34m\u001b[0m\u001b[0;34m\u001b[0m\u001b[0m\n",
      "\u001b[0;31mEncodeError\u001b[0m: Type 'vehiclePropulsionStorageType' not found in types dictionary."
     ]
    }
   ],
   "source": [
    "msdMessage = {'vehiclePropulsionStorageType' : {\n",
    "\t\t\t'gasolineTankPresent' : True,\n",
    "\t\t\t'dieselTankPresent' : False,\n",
    "\t\t\t'compressedNaturalGas' : False,\n",
    "\t\t\t'liquidPropaneGas' : False,\n",
    "\t\t\t'electricEnergyStorage' : False,\n",
    "\t\t\t'hydrogenStorage' : False,\n",
    "\t\t\t'otherStorage' : False\n",
    "            }\n",
    "             }\n",
    "\n",
    "msd = asn1tools.compile_files('data/msd_v2.asn1', codec='uper',numeric_enums=True)\n",
    "msdcode = msd.encode('vehiclePropulsionStorageType', msdMessage,  check_types=True, check_constraints=True )\n",
    "\n",
    "print(\"b'\")\n",
    "print(\"\".join(\"\\\\x%02x\" % i for i in msdcode))"
   ]
  },
  {
   "cell_type": "code",
   "execution_count": 38,
   "metadata": {},
   "outputs": [
    {
     "name": "stdout",
     "output_type": "stream",
     "text": [
      "b'02251c0680e30a51439e2955d43800800437f80a3105669023f8a71166932185b004150043c040'\n",
      "00000010\n",
      "00100101\n",
      "00011100\n",
      "00000110\n",
      "10000000\n",
      "11100011\n",
      "00001010\n",
      "01010001\n",
      "01000011\n",
      "10011110\n",
      "00101001\n",
      "01010101\n",
      "11010100\n",
      "00111000\n",
      "00000000\n",
      "10000000\n",
      "00000100\n",
      "00110111\n",
      "11111000\n",
      "00001010\n",
      "00110001\n",
      "00000101\n",
      "01100110\n",
      "10010000\n",
      "00100011\n",
      "11111000\n",
      "10100111\n",
      "00010001\n",
      "01100110\n",
      "10010011\n",
      "00100001\n",
      "10000101\n",
      "10110000\n",
      "00000100\n",
      "00010101\n",
      "00000000\n",
      "01000011\n",
      "11000000\n",
      "01000000\n",
      "\n"
     ]
    }
   ],
   "source": [
    "# eCall Message nach  CEN-EN-15722_2015-08\n",
    "hex_string = '02251C0680E30A51439E2955D43800800437F80A3105669023F8A71166932185B004150043C040'\n",
    "\n",
    "binary_string = binascii.unhexlify(hex_string)\n",
    "\n",
    "print (binascii.hexlify(binary_string))\n",
    "\n",
    "bytes_as_bits = ''.join(\"{:08b}\\n\".format(byte) for byte in binary_string)\n",
    "print (bytes_as_bits)\n",
    "\n",
    "#result = msd.decode('ECallMessage', bytearray(eCallMessage1))\n",
    "#print(result)\n",
    "\n"
   ]
  },
  {
   "cell_type": "markdown",
   "metadata": {},
   "source": [
    "Mögliche Codecs sind 'ber', 'der', 'gser', 'jer', oer, 'per', 'uper' and 'xer'."
   ]
  },
  {
   "cell_type": "code",
   "execution_count": 16,
   "metadata": {
    "scrolled": true
   },
   "outputs": [
    {
     "name": "stdout",
     "output_type": "stream",
     "text": [
      "b'\n",
      "\\x1c\\x06\\x80\\xe3\\x0a\\x51\\x43\\x9e\\x29\\x55\\xd4\\x38\\x00\\x80\\x04\\x34\\x0a\\x8c\\x41\\x59\\xa4\\x08\\xfe\\x29\\xc4\\x59\\xa4\\xc8\\x61\\x6c\\x01\\x05\\x40\\x10\\xf0\\x10\n"
     ]
    }
   ],
   "source": []
  },
  {
   "cell_type": "raw",
   "metadata": {},
   "source": [
    "Test mit optionalen Felder in der UPER Codierung\n",
    "VT ::= SEQUENCE {\n",
    "    gasolineTankPresent BOOLEAN DEFAULT FALSE,\n",
    "    dieselTankPresent BOOLEAN DEFAULT FALSE,\n",
    "    compressedNaturalGas BOOLEAN DEFAULT FALSE,\n",
    "    liquidPropaneGas BOOLEAN DEFAULT FALSE,\n",
    "    electricEnergyStorage BOOLEAN DEFAULT FALSE,\n",
    "    hydrogenStorage BOOLEAN DEFAULT FALSE,\n",
    "    otherStorage BOOLEAN DEFAULT FALSE,\n",
    "    test BOOLEAN DEFAULT FALSE,\n",
    "    ...\n",
    "}"
   ]
  },
  {
   "cell_type": "markdown",
   "metadata": {},
   "source": [
    "VT Sequenz mit einem Message Identifier der Länge 7-Bit. Danach Boolenns mit Default Werte. \n",
    "\n",
    "UPER Codierung: \n",
    "\n",
    "- 0-bit für Extension ... (1 bedeutet das die Extenstion vorhanden ist) : \n",
    "- Danach 8-bit für die Default Werte der Struktur VT\n",
    "- Danach Integer-Wert 7 Bit lang (da Wertebereich zwischen 0..127)\n",
    "- Danach 00 bis ein Byte aufgefüllt ist.\n",
    "- Total 3Byte fpr die Codierung der Struktur (das macht nun mal bei eCall keinen Sinn), \n",
    "ASN.1 ist good old Technology, welche in der EAS für Raummissionen und zur Steuerung von Remote Robos verwendet wird. Hier hat man etwas über das Ziel geschossen. \n",
    "- good old Technolgy (1980) aus ISDN CS Zeitalter\n",
    "- deshalb macht es durchaus Sinn, wenn sich die Telcos darum kümmern (Die verstehen diese Technologie noch!!)\n",
    "- "
   ]
  },
  {
   "cell_type": "code",
   "execution_count": 13,
   "metadata": {},
   "outputs": [
    {
     "name": "stdout",
     "output_type": "stream",
     "text": [
      "{'gasolineTankPresent': True, 'dieselTankPresent': False, 'compressedNaturalGas': True, 'liquidPropaneGas': False, 'electricEnergyStorage': True, 'hydrogenStorage': False, 'otherStorage': True, 'test': False}\n",
      "UPER Encoding mit optionalen Felder\n",
      "01010101\n",
      "01111000\n",
      "\n",
      "\\x55\\x78\n"
     ]
    },
    {
     "data": {
      "text/plain": [
       "{'gasolineTankPresent': True,\n",
       " 'dieselTankPresent': False,\n",
       " 'compressedNaturalGas': True,\n",
       " 'liquidPropaneGas': False,\n",
       " 'electricEnergyStorage': True,\n",
       " 'hydrogenStorage': False,\n",
       " 'otherStorage': True,\n",
       " 'test': False}"
      ]
     },
     "execution_count": 13,
     "metadata": {},
     "output_type": "execute_result"
    }
   ],
   "source": [
    "mess =  {\n",
    "\t\t\t'gasolineTankPresent' : True,\n",
    "\t\t\t'dieselTankPresent' : False,\n",
    "\t\t\t'compressedNaturalGas' : True,\n",
    "\t\t\t'liquidPropaneGas' : False,\n",
    "\t\t\t'electricEnergyStorage' : True,\n",
    "\t\t\t'hydrogenStorage' : False,\n",
    "\t\t\t'otherStorage' : True,\n",
    "            'test' : False\n",
    "}\n",
    "print (mess)\n",
    "uper = asn1tools.compile_files('data/optional.asn1', codec='uper' )\n",
    "\n",
    "gaso = uper.encode('VT', mess, check_types=True, check_constraints=True)\n",
    "\n",
    "gaso\n",
    "bytes_as_bits = ''.join(\"{:08b}\\n\".format(byte) for byte in gaso)\n",
    "\n",
    "print(\"UPER Encoding mit optionalen Felder\")\n",
    "print (bytes_as_bits)\n",
    "print(\"\".join(\"\\\\x%02x\" % i for i in gaso))\n",
    "\n",
    "uper.decode('VT', gaso)"
   ]
  },
  {
   "cell_type": "markdown",
   "metadata": {},
   "source": [
    "- Beispiel aus CEN-EN-15722_20"
   ]
  },
  {
   "cell_type": "code",
   "execution_count": null,
   "metadata": {},
   "outputs": [],
   "source": []
  },
  {
   "cell_type": "code",
   "execution_count": null,
   "metadata": {},
   "outputs": [],
   "source": [
    "\n"
   ]
  },
  {
   "cell_type": "code",
   "execution_count": 11,
   "metadata": {},
   "outputs": [
    {
     "ename": "NameError",
     "evalue": "name 'code' is not defined",
     "output_type": "error",
     "traceback": [
      "\u001b[0;31m---------------------------------------------------------------------------\u001b[0m",
      "\u001b[0;31mNameError\u001b[0m                                 Traceback (most recent call last)",
      "\u001b[0;32m<ipython-input-11-4609689eb8e8>\u001b[0m in \u001b[0;36m<module>\u001b[0;34m\u001b[0m\n\u001b[1;32m      1\u001b[0m \u001b[0;32mimport\u001b[0m \u001b[0mbinascii\u001b[0m\u001b[0;34m\u001b[0m\u001b[0;34m\u001b[0m\u001b[0m\n\u001b[0;32m----> 2\u001b[0;31m \u001b[0mhexcode\u001b[0m \u001b[0;34m=\u001b[0m \u001b[0mbinascii\u001b[0m\u001b[0;34m.\u001b[0m\u001b[0mhexlify\u001b[0m\u001b[0;34m(\u001b[0m\u001b[0mbytearray\u001b[0m\u001b[0;34m(\u001b[0m\u001b[0mcode\u001b[0m\u001b[0;34m)\u001b[0m\u001b[0;34m)\u001b[0m\u001b[0;34m\u001b[0m\u001b[0;34m\u001b[0m\u001b[0m\n\u001b[0m\u001b[1;32m      3\u001b[0m \u001b[0mprint\u001b[0m\u001b[0;34m(\u001b[0m\u001b[0mcode\u001b[0m\u001b[0;34m)\u001b[0m\u001b[0;34m\u001b[0m\u001b[0;34m\u001b[0m\u001b[0m\n\u001b[1;32m      4\u001b[0m \u001b[0mprint\u001b[0m\u001b[0;34m(\u001b[0m \u001b[0;34m\"Länge des Oct String = \"\u001b[0m \u001b[0;34m+\u001b[0m \u001b[0mstr\u001b[0m\u001b[0;34m(\u001b[0m\u001b[0mlen\u001b[0m\u001b[0;34m(\u001b[0m\u001b[0mcode\u001b[0m\u001b[0;34m)\u001b[0m\u001b[0;34m)\u001b[0m \u001b[0;34m)\u001b[0m\u001b[0;34m\u001b[0m\u001b[0;34m\u001b[0m\u001b[0m\n\u001b[1;32m      5\u001b[0m \u001b[0;34m\u001b[0m\u001b[0m\n",
      "\u001b[0;31mNameError\u001b[0m: name 'code' is not defined"
     ]
    }
   ],
   "source": []
  },
  {
   "cell_type": "code",
   "execution_count": 14,
   "metadata": {},
   "outputs": [
    {
     "name": "stdout",
     "output_type": "stream",
     "text": [
      "{'msdVersion': 2, 'msd': b'\\x1c\\x06\\x80\\xe3\\nQC\\x9e)U\\xd48\\x00\\x80\\x044\\n\\x8cAY\\xa4\\x08\\xfe)\\xc4Y\\xa4\\xc8al\\x01\\x05@\\x10\\xf0\\x10'}\n"
     ]
    }
   ],
   "source": [
    "result = msd.decode('ECallMessage', code)\n",
    "print(result)"
   ]
  },
  {
   "cell_type": "code",
   "execution_count": 15,
   "metadata": {},
   "outputs": [
    {
     "name": "stdout",
     "output_type": "stream",
     "text": [
      "Sequence(ECallMessage, [Integer(msdVersion), OctetString(msd)])\n"
     ]
    }
   ],
   "source": [
    "print(msd.types['ECallMessage'])"
   ]
  },
  {
   "cell_type": "code",
   "execution_count": 16,
   "metadata": {},
   "outputs": [
    {
     "name": "stdout",
     "output_type": "stream",
     "text": [
      "Sequence(MSDMessage, [Sequence(msdStructure, [Integer(messageIdentifier), Sequence(control, [Boolean(automaticActivation), Boolean(testCall), Boolean(positionCanBeTrusted), Enumerated(vehicleType)]), Sequence(vehicleIdentificationNumber, [PrintableString(isowmi), PrintableString(isovds), PrintableString(isovisModelyear), PrintableString(isovisSeqPlant)]), Sequence(vehiclePropulsionStorageType, [Boolean(gasolineTankPresent), Boolean(dieselTankPresent), Boolean(compressedNaturalGas), Boolean(liquidPropaneGas), Boolean(electricEnergyStorage), Boolean(hydrogenStorage), Boolean(otherStorage)]), Integer(timestamp), Sequence(vehicleLocation, [Integer(positionLatitude), Integer(positionLongitude)]), Integer(vehicleDirection), Sequence(recentVehicleLocationN1, [Integer(latitudeDelta), Integer(longitudeDelta)]), Sequence(recentVehicleLocationN2, [Integer(latitudeDelta), Integer(longitudeDelta)]), Integer(numberOfPassengers)]), Sequence(optionalAdditionalData, [OctetString(oid), OctetString(data)])])\n"
     ]
    }
   ],
   "source": [
    "print(msd.types['MSDMessage'])\n",
    "#print(msd.types['ECallMessage'])"
   ]
  },
  {
   "cell_type": "code",
   "execution_count": 17,
   "metadata": {},
   "outputs": [
    {
     "data": {
      "text/plain": [
       "{'msdStructure': {'messageIdentifier': 1,\n",
       "  'control': {'automaticActivation': True,\n",
       "   'testCall': False,\n",
       "   'positionCanBeTrusted': True,\n",
       "   'vehicleType': 'passengerVehicleClassM1'},\n",
       "  'vehicleIdentificationNumber': {'isowmi': 'ECA',\n",
       "   'isovds': 'LLEXAM',\n",
       "   'isovisModelyear': 'P',\n",
       "   'isovisSeqPlant': 'LE02013'},\n",
       "  'vehiclePropulsionStorageType': {'gasolineTankPresent': True,\n",
       "   'dieselTankPresent': False,\n",
       "   'compressedNaturalGas': False,\n",
       "   'liquidPropaneGas': False,\n",
       "   'electricEnergyStorage': False,\n",
       "   'hydrogenStorage': False,\n",
       "   'otherStorage': False},\n",
       "  'timestamp': 1367878452,\n",
       "  'vehicleLocation': {'positionLatitude': 18859320,\n",
       "   'positionLongitude': 187996428},\n",
       "  'vehicleDirection': 45,\n",
       "  'recentVehicleLocationN1': {'latitudeDelta': 0, 'longitudeDelta': 10},\n",
       "  'recentVehicleLocationN2': {'latitudeDelta': 0, 'longitudeDelta': 30},\n",
       "  'numberOfPassengers': 2}}"
      ]
     },
     "execution_count": 17,
     "metadata": {},
     "output_type": "execute_result"
    }
   ],
   "source": [
    "msd.decode('MSDMessage', result['msd'])"
   ]
  },
  {
   "cell_type": "markdown",
   "metadata": {},
   "source": [
    "http://www.auto-vin-decoder.com/\n",
    "Gültiger VIN-Code : WVWZZZ1JZ3W386752\n",
    "\n",
    "Gültige PDU Message mit VW Golf / Golf IV Cabrio / Bora / Jetta / Bora Variant - MK4 / R32, 2003,Wolfsburg, Germany, Serial 386752) \n",
    "\n",
    "PDU(46octets):015C06B1D71D8208014A00DD0C81871424583ADE68AC52E9BB8413F149C07414FB414F6010180813E82181823230"
   ]
  },
  {
   "cell_type": "code",
   "execution_count": 12,
   "metadata": {},
   "outputs": [],
   "source": []
  },
  {
   "cell_type": "code",
   "execution_count": 36,
   "metadata": {},
   "outputs": [
    {
     "name": "stdout",
     "output_type": "stream",
     "text": [
      "b'02251c0680e30a51439e2955d43800800437f80a3105669023f8a71166932185b004150043c040'\n",
      "00000010\n",
      "00100101\n",
      "00011100\n",
      "00000110\n",
      "10000000\n",
      "11100011\n",
      "00001010\n",
      "01010001\n",
      "01000011\n",
      "10011110\n",
      "00101001\n",
      "01010101\n",
      "11010100\n",
      "00111000\n",
      "00000000\n",
      "10000000\n",
      "00000100\n",
      "00110111\n",
      "11111000\n",
      "00001010\n",
      "00110001\n",
      "00000101\n",
      "01100110\n",
      "10010000\n",
      "00100011\n",
      "11111000\n",
      "10100111\n",
      "00010001\n",
      "01100110\n",
      "10010011\n",
      "00100001\n",
      "10000101\n",
      "10110000\n",
      "00000100\n",
      "00010101\n",
      "00000000\n",
      "01000011\n",
      "11000000\n",
      "01000000\n",
      "\n"
     ]
    }
   ],
   "source": []
  },
  {
   "cell_type": "code",
   "execution_count": 14,
   "metadata": {},
   "outputs": [
    {
     "ename": "DecodeError",
     "evalue": "msdStructure: vehicleIdentificationNumber: isowmi: Expected a value in [0, 1, 2, 3, 4, 5, 6, 7, 8, 9, 10, 11, 12, 13, 14, 15, 16, 17, 18, 19, 20, 21, 22, 23, 24, 25, 26, 27, 28, 29, 30, 31, 32], but got 48.",
     "output_type": "error",
     "traceback": [
      "\u001b[0;31m---------------------------------------------------------------------------\u001b[0m",
      "\u001b[0;31mKeyError\u001b[0m                                  Traceback (most recent call last)",
      "\u001b[0;32m/opt/conda/lib/python3.7/site-packages/asn1tools/codecs/per.py\u001b[0m in \u001b[0;36mdecode\u001b[0;34m(self, value)\u001b[0m\n\u001b[1;32m    142\u001b[0m         \u001b[0;32mtry\u001b[0m\u001b[0;34m:\u001b[0m\u001b[0;34m\u001b[0m\u001b[0;34m\u001b[0m\u001b[0m\n\u001b[0;32m--> 143\u001b[0;31m             \u001b[0;32mreturn\u001b[0m \u001b[0mself\u001b[0m\u001b[0;34m.\u001b[0m\u001b[0mdecode_map\u001b[0m\u001b[0;34m[\u001b[0m\u001b[0mvalue\u001b[0m\u001b[0;34m]\u001b[0m\u001b[0;34m\u001b[0m\u001b[0;34m\u001b[0m\u001b[0m\n\u001b[0m\u001b[1;32m    144\u001b[0m         \u001b[0;32mexcept\u001b[0m \u001b[0mKeyError\u001b[0m\u001b[0;34m:\u001b[0m\u001b[0;34m\u001b[0m\u001b[0;34m\u001b[0m\u001b[0m\n",
      "\u001b[0;31mKeyError\u001b[0m: 48",
      "\nDuring handling of the above exception, another exception occurred:\n",
      "\u001b[0;31mDecodeError\u001b[0m                               Traceback (most recent call last)",
      "\u001b[0;32m<ipython-input-14-63845aa9ea8b>\u001b[0m in \u001b[0;36m<module>\u001b[0;34m\u001b[0m\n\u001b[0;32m----> 1\u001b[0;31m \u001b[0mmsd\u001b[0m\u001b[0;34m.\u001b[0m\u001b[0mdecode\u001b[0m\u001b[0;34m(\u001b[0m\u001b[0;34m'MSDMessage'\u001b[0m\u001b[0;34m,\u001b[0m \u001b[0mresult\u001b[0m\u001b[0;34m[\u001b[0m\u001b[0;34m'msd'\u001b[0m\u001b[0;34m]\u001b[0m\u001b[0;34m)\u001b[0m\u001b[0;34m\u001b[0m\u001b[0;34m\u001b[0m\u001b[0m\n\u001b[0m",
      "\u001b[0;32m/opt/conda/lib/python3.7/site-packages/asn1tools/compiler.py\u001b[0m in \u001b[0;36mdecode\u001b[0;34m(self, name, data, check_constraints)\u001b[0m\n\u001b[1;32m    161\u001b[0m                 \"Type '{}' not found in types dictionary.\".format(name))\n\u001b[1;32m    162\u001b[0m \u001b[0;34m\u001b[0m\u001b[0m\n\u001b[0;32m--> 163\u001b[0;31m         \u001b[0mdecoded\u001b[0m \u001b[0;34m=\u001b[0m \u001b[0mtype_\u001b[0m\u001b[0;34m.\u001b[0m\u001b[0mdecode\u001b[0m\u001b[0;34m(\u001b[0m\u001b[0mdata\u001b[0m\u001b[0;34m)\u001b[0m\u001b[0;34m\u001b[0m\u001b[0;34m\u001b[0m\u001b[0m\n\u001b[0m\u001b[1;32m    164\u001b[0m \u001b[0;34m\u001b[0m\u001b[0m\n\u001b[1;32m    165\u001b[0m         \u001b[0;32mif\u001b[0m \u001b[0mcheck_constraints\u001b[0m\u001b[0;34m:\u001b[0m\u001b[0;34m\u001b[0m\u001b[0;34m\u001b[0m\u001b[0m\n",
      "\u001b[0;32m/opt/conda/lib/python3.7/site-packages/asn1tools/codecs/uper.py\u001b[0m in \u001b[0;36mdecode\u001b[0;34m(self, data)\u001b[0m\n\u001b[1;32m    473\u001b[0m         \u001b[0mdecoder\u001b[0m \u001b[0;34m=\u001b[0m \u001b[0mDecoder\u001b[0m\u001b[0;34m(\u001b[0m\u001b[0mbytearray\u001b[0m\u001b[0;34m(\u001b[0m\u001b[0mdata\u001b[0m\u001b[0;34m)\u001b[0m\u001b[0;34m)\u001b[0m\u001b[0;34m\u001b[0m\u001b[0;34m\u001b[0m\u001b[0m\n\u001b[1;32m    474\u001b[0m \u001b[0;34m\u001b[0m\u001b[0m\n\u001b[0;32m--> 475\u001b[0;31m         \u001b[0;32mreturn\u001b[0m \u001b[0mself\u001b[0m\u001b[0;34m.\u001b[0m\u001b[0m_type\u001b[0m\u001b[0;34m.\u001b[0m\u001b[0mdecode\u001b[0m\u001b[0;34m(\u001b[0m\u001b[0mdecoder\u001b[0m\u001b[0;34m)\u001b[0m\u001b[0;34m\u001b[0m\u001b[0;34m\u001b[0m\u001b[0m\n\u001b[0m\u001b[1;32m    476\u001b[0m \u001b[0;34m\u001b[0m\u001b[0m\n\u001b[1;32m    477\u001b[0m \u001b[0;34m\u001b[0m\u001b[0m\n",
      "\u001b[0;32m/opt/conda/lib/python3.7/site-packages/asn1tools/codecs/per.py\u001b[0m in \u001b[0;36mdecode\u001b[0;34m(self, decoder)\u001b[0m\n\u001b[1;32m    847\u001b[0m                 \u001b[0mdecoded\u001b[0m\u001b[0;34m.\u001b[0m\u001b[0mupdate\u001b[0m\u001b[0;34m(\u001b[0m\u001b[0mself\u001b[0m\u001b[0;34m.\u001b[0m\u001b[0mdecode_additions\u001b[0m\u001b[0;34m(\u001b[0m\u001b[0mdecoder\u001b[0m\u001b[0;34m)\u001b[0m\u001b[0;34m)\u001b[0m\u001b[0;34m\u001b[0m\u001b[0;34m\u001b[0m\u001b[0m\n\u001b[1;32m    848\u001b[0m             \u001b[0;32melse\u001b[0m\u001b[0;34m:\u001b[0m\u001b[0;34m\u001b[0m\u001b[0;34m\u001b[0m\u001b[0m\n\u001b[0;32m--> 849\u001b[0;31m                 \u001b[0mdecoded\u001b[0m \u001b[0;34m=\u001b[0m \u001b[0mself\u001b[0m\u001b[0;34m.\u001b[0m\u001b[0mdecode_root\u001b[0m\u001b[0;34m(\u001b[0m\u001b[0mdecoder\u001b[0m\u001b[0;34m)\u001b[0m\u001b[0;34m\u001b[0m\u001b[0;34m\u001b[0m\u001b[0m\n\u001b[0m\u001b[1;32m    850\u001b[0m         \u001b[0;32melse\u001b[0m\u001b[0;34m:\u001b[0m\u001b[0;34m\u001b[0m\u001b[0;34m\u001b[0m\u001b[0m\n\u001b[1;32m    851\u001b[0m             \u001b[0mdecoded\u001b[0m \u001b[0;34m=\u001b[0m \u001b[0mself\u001b[0m\u001b[0;34m.\u001b[0m\u001b[0mdecode_root\u001b[0m\u001b[0;34m(\u001b[0m\u001b[0mdecoder\u001b[0m\u001b[0;34m)\u001b[0m\u001b[0;34m\u001b[0m\u001b[0;34m\u001b[0m\u001b[0m\n",
      "\u001b[0;32m/opt/conda/lib/python3.7/site-packages/asn1tools/codecs/per.py\u001b[0m in \u001b[0;36mdecode_root\u001b[0;34m(self, decoder)\u001b[0m\n\u001b[1;32m    863\u001b[0m             \u001b[0;32mtry\u001b[0m\u001b[0;34m:\u001b[0m\u001b[0;34m\u001b[0m\u001b[0;34m\u001b[0m\u001b[0m\n\u001b[1;32m    864\u001b[0m                 \u001b[0;32mif\u001b[0m \u001b[0moptionals\u001b[0m\u001b[0;34m.\u001b[0m\u001b[0mget\u001b[0m\u001b[0;34m(\u001b[0m\u001b[0mmember\u001b[0m\u001b[0;34m,\u001b[0m \u001b[0;32mTrue\u001b[0m\u001b[0;34m)\u001b[0m\u001b[0;34m:\u001b[0m\u001b[0;34m\u001b[0m\u001b[0;34m\u001b[0m\u001b[0m\n\u001b[0;32m--> 865\u001b[0;31m                     \u001b[0mvalue\u001b[0m \u001b[0;34m=\u001b[0m \u001b[0mmember\u001b[0m\u001b[0;34m.\u001b[0m\u001b[0mdecode\u001b[0m\u001b[0;34m(\u001b[0m\u001b[0mdecoder\u001b[0m\u001b[0;34m)\u001b[0m\u001b[0;34m\u001b[0m\u001b[0;34m\u001b[0m\u001b[0m\n\u001b[0m\u001b[1;32m    866\u001b[0m                     \u001b[0mvalues\u001b[0m\u001b[0;34m[\u001b[0m\u001b[0mmember\u001b[0m\u001b[0;34m.\u001b[0m\u001b[0mname\u001b[0m\u001b[0;34m]\u001b[0m \u001b[0;34m=\u001b[0m \u001b[0mvalue\u001b[0m\u001b[0;34m\u001b[0m\u001b[0;34m\u001b[0m\u001b[0m\n\u001b[1;32m    867\u001b[0m                 \u001b[0;32melif\u001b[0m \u001b[0mmember\u001b[0m\u001b[0;34m.\u001b[0m\u001b[0mhas_default\u001b[0m\u001b[0;34m(\u001b[0m\u001b[0;34m)\u001b[0m\u001b[0;34m:\u001b[0m\u001b[0;34m\u001b[0m\u001b[0;34m\u001b[0m\u001b[0m\n",
      "\u001b[0;32m/opt/conda/lib/python3.7/site-packages/asn1tools/codecs/per.py\u001b[0m in \u001b[0;36mdecode\u001b[0;34m(self, decoder)\u001b[0m\n\u001b[1;32m    844\u001b[0m         \u001b[0;32mif\u001b[0m \u001b[0mself\u001b[0m\u001b[0;34m.\u001b[0m\u001b[0madditions\u001b[0m \u001b[0;32mis\u001b[0m \u001b[0;32mnot\u001b[0m \u001b[0;32mNone\u001b[0m\u001b[0;34m:\u001b[0m\u001b[0;34m\u001b[0m\u001b[0;34m\u001b[0m\u001b[0m\n\u001b[1;32m    845\u001b[0m             \u001b[0;32mif\u001b[0m \u001b[0mdecoder\u001b[0m\u001b[0;34m.\u001b[0m\u001b[0mread_bit\u001b[0m\u001b[0;34m(\u001b[0m\u001b[0;34m)\u001b[0m\u001b[0;34m:\u001b[0m\u001b[0;34m\u001b[0m\u001b[0;34m\u001b[0m\u001b[0m\n\u001b[0;32m--> 846\u001b[0;31m                 \u001b[0mdecoded\u001b[0m \u001b[0;34m=\u001b[0m \u001b[0mself\u001b[0m\u001b[0;34m.\u001b[0m\u001b[0mdecode_root\u001b[0m\u001b[0;34m(\u001b[0m\u001b[0mdecoder\u001b[0m\u001b[0;34m)\u001b[0m\u001b[0;34m\u001b[0m\u001b[0;34m\u001b[0m\u001b[0m\n\u001b[0m\u001b[1;32m    847\u001b[0m                 \u001b[0mdecoded\u001b[0m\u001b[0;34m.\u001b[0m\u001b[0mupdate\u001b[0m\u001b[0;34m(\u001b[0m\u001b[0mself\u001b[0m\u001b[0;34m.\u001b[0m\u001b[0mdecode_additions\u001b[0m\u001b[0;34m(\u001b[0m\u001b[0mdecoder\u001b[0m\u001b[0;34m)\u001b[0m\u001b[0;34m)\u001b[0m\u001b[0;34m\u001b[0m\u001b[0;34m\u001b[0m\u001b[0m\n\u001b[1;32m    848\u001b[0m             \u001b[0;32melse\u001b[0m\u001b[0;34m:\u001b[0m\u001b[0;34m\u001b[0m\u001b[0;34m\u001b[0m\u001b[0m\n",
      "\u001b[0;32m/opt/conda/lib/python3.7/site-packages/asn1tools/codecs/per.py\u001b[0m in \u001b[0;36mdecode_root\u001b[0;34m(self, decoder)\u001b[0m\n\u001b[1;32m    863\u001b[0m             \u001b[0;32mtry\u001b[0m\u001b[0;34m:\u001b[0m\u001b[0;34m\u001b[0m\u001b[0;34m\u001b[0m\u001b[0m\n\u001b[1;32m    864\u001b[0m                 \u001b[0;32mif\u001b[0m \u001b[0moptionals\u001b[0m\u001b[0;34m.\u001b[0m\u001b[0mget\u001b[0m\u001b[0;34m(\u001b[0m\u001b[0mmember\u001b[0m\u001b[0;34m,\u001b[0m \u001b[0;32mTrue\u001b[0m\u001b[0;34m)\u001b[0m\u001b[0;34m:\u001b[0m\u001b[0;34m\u001b[0m\u001b[0;34m\u001b[0m\u001b[0m\n\u001b[0;32m--> 865\u001b[0;31m                     \u001b[0mvalue\u001b[0m \u001b[0;34m=\u001b[0m \u001b[0mmember\u001b[0m\u001b[0;34m.\u001b[0m\u001b[0mdecode\u001b[0m\u001b[0;34m(\u001b[0m\u001b[0mdecoder\u001b[0m\u001b[0;34m)\u001b[0m\u001b[0;34m\u001b[0m\u001b[0;34m\u001b[0m\u001b[0m\n\u001b[0m\u001b[1;32m    866\u001b[0m                     \u001b[0mvalues\u001b[0m\u001b[0;34m[\u001b[0m\u001b[0mmember\u001b[0m\u001b[0;34m.\u001b[0m\u001b[0mname\u001b[0m\u001b[0;34m]\u001b[0m \u001b[0;34m=\u001b[0m \u001b[0mvalue\u001b[0m\u001b[0;34m\u001b[0m\u001b[0;34m\u001b[0m\u001b[0m\n\u001b[1;32m    867\u001b[0m                 \u001b[0;32melif\u001b[0m \u001b[0mmember\u001b[0m\u001b[0;34m.\u001b[0m\u001b[0mhas_default\u001b[0m\u001b[0;34m(\u001b[0m\u001b[0;34m)\u001b[0m\u001b[0;34m:\u001b[0m\u001b[0;34m\u001b[0m\u001b[0;34m\u001b[0m\u001b[0m\n",
      "\u001b[0;32m/opt/conda/lib/python3.7/site-packages/asn1tools/codecs/per.py\u001b[0m in \u001b[0;36mdecode\u001b[0;34m(self, decoder)\u001b[0m\n\u001b[1;32m    849\u001b[0m                 \u001b[0mdecoded\u001b[0m \u001b[0;34m=\u001b[0m \u001b[0mself\u001b[0m\u001b[0;34m.\u001b[0m\u001b[0mdecode_root\u001b[0m\u001b[0;34m(\u001b[0m\u001b[0mdecoder\u001b[0m\u001b[0;34m)\u001b[0m\u001b[0;34m\u001b[0m\u001b[0;34m\u001b[0m\u001b[0m\n\u001b[1;32m    850\u001b[0m         \u001b[0;32melse\u001b[0m\u001b[0;34m:\u001b[0m\u001b[0;34m\u001b[0m\u001b[0;34m\u001b[0m\u001b[0m\n\u001b[0;32m--> 851\u001b[0;31m             \u001b[0mdecoded\u001b[0m \u001b[0;34m=\u001b[0m \u001b[0mself\u001b[0m\u001b[0;34m.\u001b[0m\u001b[0mdecode_root\u001b[0m\u001b[0;34m(\u001b[0m\u001b[0mdecoder\u001b[0m\u001b[0;34m)\u001b[0m\u001b[0;34m\u001b[0m\u001b[0;34m\u001b[0m\u001b[0m\n\u001b[0m\u001b[1;32m    852\u001b[0m \u001b[0;34m\u001b[0m\u001b[0m\n\u001b[1;32m    853\u001b[0m         \u001b[0;32mreturn\u001b[0m \u001b[0mdecoded\u001b[0m\u001b[0;34m\u001b[0m\u001b[0;34m\u001b[0m\u001b[0m\n",
      "\u001b[0;32m/opt/conda/lib/python3.7/site-packages/asn1tools/codecs/per.py\u001b[0m in \u001b[0;36mdecode_root\u001b[0;34m(self, decoder)\u001b[0m\n\u001b[1;32m    863\u001b[0m             \u001b[0;32mtry\u001b[0m\u001b[0;34m:\u001b[0m\u001b[0;34m\u001b[0m\u001b[0;34m\u001b[0m\u001b[0m\n\u001b[1;32m    864\u001b[0m                 \u001b[0;32mif\u001b[0m \u001b[0moptionals\u001b[0m\u001b[0;34m.\u001b[0m\u001b[0mget\u001b[0m\u001b[0;34m(\u001b[0m\u001b[0mmember\u001b[0m\u001b[0;34m,\u001b[0m \u001b[0;32mTrue\u001b[0m\u001b[0;34m)\u001b[0m\u001b[0;34m:\u001b[0m\u001b[0;34m\u001b[0m\u001b[0;34m\u001b[0m\u001b[0m\n\u001b[0;32m--> 865\u001b[0;31m                     \u001b[0mvalue\u001b[0m \u001b[0;34m=\u001b[0m \u001b[0mmember\u001b[0m\u001b[0;34m.\u001b[0m\u001b[0mdecode\u001b[0m\u001b[0;34m(\u001b[0m\u001b[0mdecoder\u001b[0m\u001b[0;34m)\u001b[0m\u001b[0;34m\u001b[0m\u001b[0;34m\u001b[0m\u001b[0m\n\u001b[0m\u001b[1;32m    866\u001b[0m                     \u001b[0mvalues\u001b[0m\u001b[0;34m[\u001b[0m\u001b[0mmember\u001b[0m\u001b[0;34m.\u001b[0m\u001b[0mname\u001b[0m\u001b[0;34m]\u001b[0m \u001b[0;34m=\u001b[0m \u001b[0mvalue\u001b[0m\u001b[0;34m\u001b[0m\u001b[0;34m\u001b[0m\u001b[0m\n\u001b[1;32m    867\u001b[0m                 \u001b[0;32melif\u001b[0m \u001b[0mmember\u001b[0m\u001b[0;34m.\u001b[0m\u001b[0mhas_default\u001b[0m\u001b[0;34m(\u001b[0m\u001b[0;34m)\u001b[0m\u001b[0;34m:\u001b[0m\u001b[0;34m\u001b[0m\u001b[0;34m\u001b[0m\u001b[0m\n",
      "\u001b[0;32m/opt/conda/lib/python3.7/site-packages/asn1tools/codecs/uper.py\u001b[0m in \u001b[0;36mdecode\u001b[0;34m(self, decoder)\u001b[0m\n\u001b[1;32m    107\u001b[0m         \u001b[0;32mfor\u001b[0m \u001b[0m_\u001b[0m \u001b[0;32min\u001b[0m \u001b[0mrange\u001b[0m\u001b[0;34m(\u001b[0m\u001b[0mlength\u001b[0m\u001b[0;34m)\u001b[0m\u001b[0;34m:\u001b[0m\u001b[0;34m\u001b[0m\u001b[0;34m\u001b[0m\u001b[0m\n\u001b[1;32m    108\u001b[0m             \u001b[0mvalue\u001b[0m \u001b[0;34m=\u001b[0m \u001b[0mdecoder\u001b[0m\u001b[0;34m.\u001b[0m\u001b[0mread_non_negative_binary_integer\u001b[0m\u001b[0;34m(\u001b[0m\u001b[0mself\u001b[0m\u001b[0;34m.\u001b[0m\u001b[0mbits_per_character\u001b[0m\u001b[0;34m)\u001b[0m\u001b[0;34m\u001b[0m\u001b[0;34m\u001b[0m\u001b[0m\n\u001b[0;32m--> 109\u001b[0;31m             \u001b[0mvalue\u001b[0m \u001b[0;34m=\u001b[0m \u001b[0mself\u001b[0m\u001b[0;34m.\u001b[0m\u001b[0mpermitted_alphabet\u001b[0m\u001b[0;34m.\u001b[0m\u001b[0mdecode\u001b[0m\u001b[0;34m(\u001b[0m\u001b[0mvalue\u001b[0m\u001b[0;34m)\u001b[0m\u001b[0;34m\u001b[0m\u001b[0;34m\u001b[0m\u001b[0m\n\u001b[0m\u001b[1;32m    110\u001b[0m             \u001b[0mdata\u001b[0m \u001b[0;34m+=\u001b[0m \u001b[0mto_byte_array\u001b[0m\u001b[0;34m(\u001b[0m\u001b[0mvalue\u001b[0m\u001b[0;34m,\u001b[0m \u001b[0mself\u001b[0m\u001b[0;34m.\u001b[0m\u001b[0mbits_per_character\u001b[0m\u001b[0;34m)\u001b[0m\u001b[0;34m\u001b[0m\u001b[0;34m\u001b[0m\u001b[0m\n\u001b[1;32m    111\u001b[0m \u001b[0;34m\u001b[0m\u001b[0m\n",
      "\u001b[0;32m/opt/conda/lib/python3.7/site-packages/asn1tools/codecs/per.py\u001b[0m in \u001b[0;36mdecode\u001b[0;34m(self, value)\u001b[0m\n\u001b[1;32m    146\u001b[0m                 \"Expected a value in {}, but got {:d}.\".format(\n\u001b[1;32m    147\u001b[0m                     \u001b[0mlist\u001b[0m\u001b[0;34m(\u001b[0m\u001b[0mself\u001b[0m\u001b[0;34m.\u001b[0m\u001b[0mdecode_map\u001b[0m\u001b[0;34m)\u001b[0m\u001b[0;34m,\u001b[0m\u001b[0;34m\u001b[0m\u001b[0;34m\u001b[0m\u001b[0m\n\u001b[0;32m--> 148\u001b[0;31m                     value))\n\u001b[0m\u001b[1;32m    149\u001b[0m \u001b[0;34m\u001b[0m\u001b[0m\n\u001b[1;32m    150\u001b[0m \u001b[0;34m\u001b[0m\u001b[0m\n",
      "\u001b[0;31mDecodeError\u001b[0m: msdStructure: vehicleIdentificationNumber: isowmi: Expected a value in [0, 1, 2, 3, 4, 5, 6, 7, 8, 9, 10, 11, 12, 13, 14, 15, 16, 17, 18, 19, 20, 21, 22, 23, 24, 25, 26, 27, 28, 29, 30, 31, 32], but got 48."
     ]
    }
   ],
   "source": [
    "msd.decode('MSDMessage', result['msd'])"
   ]
  },
  {
   "cell_type": "markdown",
   "metadata": {},
   "source": [
    "# Nützliche Referenzen zu ASN.1\n",
    "\n",
    "\n",
    "ASN1 Compiler welcher C++ Code erstellt. Verwendet im ESA Space Programm. Dieser kann auch UPER Coding.  \n",
    "\n",
    "https://www.thanassis.space/asn1.html#using"
   ]
  }
 ],
 "metadata": {
  "kernelspec": {
   "display_name": "Python 3",
   "language": "python",
   "name": "python3"
  },
  "language_info": {
   "codemirror_mode": {
    "name": "ipython",
    "version": 3
   },
   "file_extension": ".py",
   "mimetype": "text/x-python",
   "name": "python",
   "nbconvert_exporter": "python",
   "pygments_lexer": "ipython3",
   "version": "3.7.3"
  }
 },
 "nbformat": 4,
 "nbformat_minor": 2
}
