{
 "cells": [
  {
   "cell_type": "code",
   "execution_count": 2,
   "metadata": {},
   "outputs": [
    {
     "name": "stdout",
     "output_type": "stream",
     "text": [
      "{'Debug_with_Pixiedust.ipynb', 'zipbackup.ipynb', 'data/msd_v2_example.asn1', 'data/pcmdlin1.pcm', 'Routing_LEitweglenkung.ipynb', 'data/pcmulout1.pcm.wav', 'data/msd_v2.asn1', 'data/foo.asn', 'pixiedust.db', 'WaveHeader.ipynb', 'data/anhang_routing-tabelle-festnetzmobiltelefonieausgabe2019-2.xlsx', 'round-table.gv', 'Graphviz-Examples.ipynb', 'ASN1-Coding.ipynb', 'data', 'data/libs', 'data/optional.asn1', 'asn1tools-0.146.6-py2.py3-none-any.whl', 'allbackup.zip', 'eCallBasics.ipynb', 'Untitled.ipynb', 'data/pcmulout1.pcm', 'data/pcmdlin3.pcm', 'data/pcmdlin1.pcm.wav', 'Sound.ipynb', 'eCallBasics-ASN1-Coding.ipynb', 'data/libs/pixiedust.jar'}\n",
      "Adding Debug_with_Pixiedust.ipynb to zip file\n",
      "Adding zipbackup.ipynb to zip file\n",
      "Adding data/msd_v2_example.asn1 to zip file\n",
      "Adding data/pcmdlin1.pcm to zip file\n",
      "Adding Routing_LEitweglenkung.ipynb to zip file\n",
      "Adding data/pcmulout1.pcm.wav to zip file\n",
      "Adding data/msd_v2.asn1 to zip file\n",
      "Adding data/foo.asn to zip file\n",
      "Adding pixiedust.db to zip file\n",
      "Adding WaveHeader.ipynb to zip file\n",
      "Adding data/anhang_routing-tabelle-festnetzmobiltelefonieausgabe2019-2.xlsx to zip file\n",
      "Adding round-table.gv to zip file\n",
      "Adding Graphviz-Examples.ipynb to zip file\n",
      "Adding ASN1-Coding.ipynb to zip file\n",
      "Adding data to zip file\n",
      "Adding data/libs to zip file\n",
      "Adding data/optional.asn1 to zip file\n",
      "Adding asn1tools-0.146.6-py2.py3-none-any.whl to zip file\n",
      "Adding allbackup.zip to zip file\n",
      "Adding eCallBasics.ipynb to zip file\n",
      "Adding Untitled.ipynb to zip file\n",
      "Adding data/pcmulout1.pcm to zip file\n",
      "Adding data/pcmdlin3.pcm to zip file\n",
      "Adding data/pcmdlin1.pcm.wav to zip file\n",
      "Adding Sound.ipynb to zip file\n",
      "Adding eCallBasics-ASN1-Coding.ipynb to zip file\n",
      "Adding data/libs/pixiedust.jar to zip file\n",
      "done\n"
     ]
    }
   ],
   "source": [
    "import zipfile\n",
    "import glob\n",
    "zf = zipfile.ZipFile('allbackup.zip', 'w', zipfile.ZIP_DEFLATED)\n",
    "\n",
    "files = set( glob.glob('**',recursive=True)) - set(glob.glob(\"./allbackup.zip\")) - set(glob.glob(\"modules/**\",recursive=True))\n",
    "print (files)\n",
    "\n",
    "for fname in files :\n",
    "    print(f'Adding {fname} to zip file')\n",
    "    zf.write(fname)\n",
    "print('done')"
   ]
  },
  {
   "cell_type": "code",
   "execution_count": null,
   "metadata": {},
   "outputs": [],
   "source": []
  }
 ],
 "metadata": {
  "kernelspec": {
   "display_name": "Python 3",
   "language": "python",
   "name": "python3"
  },
  "language_info": {
   "codemirror_mode": {
    "name": "ipython",
    "version": 3
   },
   "file_extension": ".py",
   "mimetype": "text/x-python",
   "name": "python",
   "nbconvert_exporter": "python",
   "pygments_lexer": "ipython3",
   "version": "3.7.3"
  }
 },
 "nbformat": 4,
 "nbformat_minor": 2
}
